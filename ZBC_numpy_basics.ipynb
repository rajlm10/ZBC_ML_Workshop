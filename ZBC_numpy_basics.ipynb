{
  "nbformat": 4,
  "nbformat_minor": 0,
  "metadata": {
    "colab": {
      "name": "ZBC_numpy_basics.ipynb",
      "provenance": [],
      "authorship_tag": "ABX9TyME/vFixIR3jTy/k7ffx0Ma",
      "include_colab_link": true
    },
    "kernelspec": {
      "name": "python3",
      "display_name": "Python 3"
    },
    "language_info": {
      "name": "python"
    }
  },
  "cells": [
    {
      "cell_type": "markdown",
      "metadata": {
        "id": "view-in-github",
        "colab_type": "text"
      },
      "source": [
        "<a href=\"https://colab.research.google.com/github/rajlm10/ZBC_ML_Workshop/blob/main/ZBC_numpy_basics.ipynb\" target=\"_parent\"><img src=\"https://colab.research.google.com/assets/colab-badge.svg\" alt=\"Open In Colab\"/></a>"
      ]
    },
    {
      "cell_type": "markdown",
      "metadata": {
        "id": "PlOFTj7diCLp"
      },
      "source": [
        "#Numpy Basics\n",
        "\n",
        "Numpy is a very fast library that is useful for machine learning. It incorporates various linear algebra functions and can perform large-scale mathematical manipulations"
      ]
    },
    {
      "cell_type": "markdown",
      "metadata": {
        "id": "Z1j8nwnwqdaw"
      },
      "source": [
        "#Best numpy guide I've ever seen\n",
        "\n",
        "https://towardsdatascience.com/the-ultimate-beginners-guide-to-numpy-f5a2f99aef54"
      ]
    },
    {
      "cell_type": "markdown",
      "metadata": {
        "id": "X8E2_ZBoibJ_"
      },
      "source": [
        "#Numpy Array "
      ]
    },
    {
      "cell_type": "code",
      "metadata": {
        "colab": {
          "base_uri": "https://localhost:8080/"
        },
        "id": "zeJT1O8Eie3p",
        "outputId": "b92fc687-c931-414d-fd6b-b73c67049ed8"
      },
      "source": [
        "import numpy as np\n",
        "\n",
        "a=[[1,2],[3,4],[5,6]] #Create an np array\n",
        "a=np.array(a)\n",
        "\n",
        "print(a)\n",
        "print()\n",
        "a.shape\n"
      ],
      "execution_count": 57,
      "outputs": [
        {
          "output_type": "stream",
          "text": [
            "[[1 2]\n",
            " [3 4]\n",
            " [5 6]]\n",
            "\n"
          ],
          "name": "stdout"
        },
        {
          "output_type": "execute_result",
          "data": {
            "text/plain": [
              "(3, 2)"
            ]
          },
          "metadata": {},
          "execution_count": 57
        }
      ]
    },
    {
      "cell_type": "code",
      "metadata": {
        "colab": {
          "base_uri": "https://localhost:8080/"
        },
        "id": "Hz3ZvR1Sio5_",
        "outputId": "d99bd90f-e4bf-4f75-c3ca-156e4bcdc01f"
      },
      "source": [
        "print(np.mean(a,axis=0)) #Axis 0 refers to a.shape[0]\n",
        "print(np.mean(a,axis=1)) #Axis 1 refers to a.shape[1]\n",
        "\n"
      ],
      "execution_count": 14,
      "outputs": [
        {
          "output_type": "stream",
          "text": [
            "[3. 4.]\n",
            "[1.5 3.5 5.5]\n"
          ],
          "name": "stdout"
        }
      ]
    },
    {
      "cell_type": "code",
      "metadata": {
        "colab": {
          "base_uri": "https://localhost:8080/"
        },
        "id": "jQspMXoxrUID",
        "outputId": "39a1df81-f259-4145-99cf-49a9f423e3fc"
      },
      "source": [
        "a[0]"
      ],
      "execution_count": 58,
      "outputs": [
        {
          "output_type": "execute_result",
          "data": {
            "text/plain": [
              "array([1, 2])"
            ]
          },
          "metadata": {},
          "execution_count": 58
        }
      ]
    },
    {
      "cell_type": "code",
      "metadata": {
        "colab": {
          "base_uri": "https://localhost:8080/"
        },
        "id": "BTZizNu_rbWq",
        "outputId": "3dbdc2f5-6463-4743-9528-6fb2f403d5a9"
      },
      "source": [
        "a[0][1]"
      ],
      "execution_count": 60,
      "outputs": [
        {
          "output_type": "execute_result",
          "data": {
            "text/plain": [
              "2"
            ]
          },
          "metadata": {},
          "execution_count": 60
        }
      ]
    },
    {
      "cell_type": "code",
      "metadata": {
        "colab": {
          "base_uri": "https://localhost:8080/"
        },
        "id": "5Ank6gGTrecr",
        "outputId": "a2ad4b5d-0c24-4f76-f010-cf9d7aeaee71"
      },
      "source": [
        "a[:2,:]"
      ],
      "execution_count": 61,
      "outputs": [
        {
          "output_type": "execute_result",
          "data": {
            "text/plain": [
              "array([[1, 2],\n",
              "       [3, 4]])"
            ]
          },
          "metadata": {},
          "execution_count": 61
        }
      ]
    },
    {
      "cell_type": "code",
      "metadata": {
        "colab": {
          "base_uri": "https://localhost:8080/"
        },
        "id": "_-gq87PpkGCV",
        "outputId": "0dad9e32-cbc0-449b-badc-766796638a29"
      },
      "source": [
        "a.reshape((1,6)) #Reshape an array "
      ],
      "execution_count": 15,
      "outputs": [
        {
          "output_type": "execute_result",
          "data": {
            "text/plain": [
              "array([[1, 2, 3, 4, 5, 6]])"
            ]
          },
          "metadata": {},
          "execution_count": 15
        }
      ]
    },
    {
      "cell_type": "code",
      "metadata": {
        "colab": {
          "base_uri": "https://localhost:8080/"
        },
        "id": "ZqDGoxOVkNaL",
        "outputId": "27a41190-831a-4fa3-cade-a9b2a063452c"
      },
      "source": [
        "np.linalg.norm(a) #Root of sum of squares of all numbers "
      ],
      "execution_count": 17,
      "outputs": [
        {
          "output_type": "execute_result",
          "data": {
            "text/plain": [
              "9.539392014169456"
            ]
          },
          "metadata": {},
          "execution_count": 17
        }
      ]
    },
    {
      "cell_type": "code",
      "metadata": {
        "colab": {
          "base_uri": "https://localhost:8080/"
        },
        "id": "RmHKqZw-k7a1",
        "outputId": "229b117c-77eb-45ed-c24c-65d3a08699a6"
      },
      "source": [
        "np.linalg.norm(np.array([3,4])-np.array([0,0])) #Dist between two arrays"
      ],
      "execution_count": 18,
      "outputs": [
        {
          "output_type": "execute_result",
          "data": {
            "text/plain": [
              "5.0"
            ]
          },
          "metadata": {},
          "execution_count": 18
        }
      ]
    },
    {
      "cell_type": "code",
      "metadata": {
        "colab": {
          "base_uri": "https://localhost:8080/"
        },
        "id": "5kSHPLielpH6",
        "outputId": "500acb90-beab-4173-9f96-8b3bac2828ec"
      },
      "source": [
        "print(np.sqrt(169))\n",
        "np.exp(5)\n",
        "#np.log"
      ],
      "execution_count": 25,
      "outputs": [
        {
          "output_type": "stream",
          "text": [
            "13.0\n"
          ],
          "name": "stdout"
        },
        {
          "output_type": "execute_result",
          "data": {
            "text/plain": [
              "148.4131591025766"
            ]
          },
          "metadata": {},
          "execution_count": 25
        }
      ]
    },
    {
      "cell_type": "markdown",
      "metadata": {
        "id": "KAd4IUXVl8AD"
      },
      "source": [
        "#Matrices"
      ]
    },
    {
      "cell_type": "code",
      "metadata": {
        "colab": {
          "base_uri": "https://localhost:8080/"
        },
        "id": "8gUvfLEblIHO",
        "outputId": "b732f31d-5ba3-4565-d62f-8d5493a7dd0a"
      },
      "source": [
        "matrix1=np.random.randint(1,10,(4,3))\n",
        "matrix2=np.random.randint(1,10,(3,4))\n",
        "print(matrix1)\n",
        "print()\n",
        "print(matrix2)"
      ],
      "execution_count": 21,
      "outputs": [
        {
          "output_type": "stream",
          "text": [
            "[[1 6 2]\n",
            " [8 4 3]\n",
            " [8 1 9]\n",
            " [5 7 2]]\n",
            "\n",
            "[[1 2 4 4]\n",
            " [3 6 3 9]\n",
            " [3 1 7 1]]\n"
          ],
          "name": "stdout"
        }
      ]
    },
    {
      "cell_type": "code",
      "metadata": {
        "colab": {
          "base_uri": "https://localhost:8080/"
        },
        "id": "5ggXnRmTlfJE",
        "outputId": "933f07fa-d26f-4867-d404-86661bf6bcf7"
      },
      "source": [
        "matrix1@matrix2 #Matrix multiplication"
      ],
      "execution_count": 22,
      "outputs": [
        {
          "output_type": "execute_result",
          "data": {
            "text/plain": [
              "array([[25, 40, 36, 60],\n",
              "       [29, 43, 65, 71],\n",
              "       [38, 31, 98, 50],\n",
              "       [32, 54, 55, 85]])"
            ]
          },
          "metadata": {},
          "execution_count": 22
        }
      ]
    },
    {
      "cell_type": "code",
      "metadata": {
        "colab": {
          "base_uri": "https://localhost:8080/"
        },
        "id": "mKjPc1xwmFb1",
        "outputId": "7cff04b0-b76f-446f-b3f6-b0cb0fbcc7a9"
      },
      "source": [
        "matrix1+matrix2.T #Transpose"
      ],
      "execution_count": 28,
      "outputs": [
        {
          "output_type": "execute_result",
          "data": {
            "text/plain": [
              "array([[ 2,  9,  5],\n",
              "       [10, 10,  4],\n",
              "       [12,  4, 16],\n",
              "       [ 9, 16,  3]])"
            ]
          },
          "metadata": {},
          "execution_count": 28
        }
      ]
    },
    {
      "cell_type": "code",
      "metadata": {
        "colab": {
          "base_uri": "https://localhost:8080/"
        },
        "id": "1KqtsCOOorDK",
        "outputId": "21096830-851a-42cc-d15b-ad19386a94fb"
      },
      "source": [
        "matrix1*matrix2.T #Element wise multiplication"
      ],
      "execution_count": 43,
      "outputs": [
        {
          "output_type": "execute_result",
          "data": {
            "text/plain": [
              "array([[ 1, 18,  6],\n",
              "       [16, 24,  3],\n",
              "       [32,  3, 63],\n",
              "       [20, 63,  2]])"
            ]
          },
          "metadata": {},
          "execution_count": 43
        }
      ]
    },
    {
      "cell_type": "code",
      "metadata": {
        "colab": {
          "base_uri": "https://localhost:8080/"
        },
        "id": "lXHFIWe1lhqo",
        "outputId": "4306924e-fd4d-4e5c-ecc6-49d37ddee254"
      },
      "source": [
        "np.linalg.pinv(matrix1) #Pseudo-inverse, works with non square matrices"
      ],
      "execution_count": 27,
      "outputs": [
        {
          "output_type": "execute_result",
          "data": {
            "text/plain": [
              "array([[-0.12607254,  0.15476897, -0.02885002,  0.0237442 ],\n",
              "       [ 0.10977522, -0.0246499 , -0.03113281,  0.0672973 ],\n",
              "       [ 0.10669795, -0.12812758,  0.13856168, -0.03803415]])"
            ]
          },
          "metadata": {},
          "execution_count": 27
        }
      ]
    },
    {
      "cell_type": "code",
      "metadata": {
        "colab": {
          "base_uri": "https://localhost:8080/"
        },
        "id": "Jxk42QX7mMX_",
        "outputId": "0c94c85f-5f66-49d1-b14c-cddb015dfd6a"
      },
      "source": [
        "#np.linalg.det() determinant\n",
        "#np.abs() absolute\n",
        "np.cov(matrix1) #Covariance matrix"
      ],
      "execution_count": 31,
      "outputs": [
        {
          "output_type": "execute_result",
          "data": {
            "text/plain": [
              "array([[  7.        ,  -3.5       , -11.        ,   4.5       ],\n",
              "       [ -3.5       ,   7.        ,   2.5       ,   2.        ],\n",
              "       [-11.        ,   2.5       ,  19.        ,  -9.5       ],\n",
              "       [  4.5       ,   2.        ,  -9.5       ,   6.33333333]])"
            ]
          },
          "metadata": {},
          "execution_count": 31
        }
      ]
    },
    {
      "cell_type": "markdown",
      "metadata": {
        "id": "mjHIQL8_oEIp"
      },
      "source": [
        "#Broadcasting\n"
      ]
    },
    {
      "cell_type": "code",
      "metadata": {
        "colab": {
          "base_uri": "https://localhost:8080/"
        },
        "id": "IhyDdeYUoF6A",
        "outputId": "350de44f-5827-419e-8a92-9dfe92469a81"
      },
      "source": [
        "a=np.array([[1,2,3],[4,5,6]])\n",
        "a*2"
      ],
      "execution_count": 37,
      "outputs": [
        {
          "output_type": "execute_result",
          "data": {
            "text/plain": [
              "array([[ 2,  4,  6],\n",
              "       [ 8, 10, 12]])"
            ]
          },
          "metadata": {},
          "execution_count": 37
        }
      ]
    },
    {
      "cell_type": "code",
      "metadata": {
        "colab": {
          "base_uri": "https://localhost:8080/"
        },
        "id": "sqh3nEAooRO5",
        "outputId": "cb420e09-a7ca-4fd0-df29-37b310bdd4b4"
      },
      "source": [
        "a+[9,8,7]"
      ],
      "execution_count": 40,
      "outputs": [
        {
          "output_type": "execute_result",
          "data": {
            "text/plain": [
              "array([[10, 10, 10],\n",
              "       [13, 13, 13]])"
            ]
          },
          "metadata": {},
          "execution_count": 40
        }
      ]
    },
    {
      "cell_type": "code",
      "metadata": {
        "colab": {
          "base_uri": "https://localhost:8080/"
        },
        "id": "UJ4sRlyXobRl",
        "outputId": "518eed60-7b17-4db2-eaee-babaaa7974bd"
      },
      "source": [
        "a+np.array([[9],[8]])"
      ],
      "execution_count": 41,
      "outputs": [
        {
          "output_type": "execute_result",
          "data": {
            "text/plain": [
              "array([[10, 11, 12],\n",
              "       [12, 13, 14]])"
            ]
          },
          "metadata": {},
          "execution_count": 41
        }
      ]
    },
    {
      "cell_type": "markdown",
      "metadata": {
        "id": "pdSCj3hjoktw"
      },
      "source": [
        "#Boolean logic"
      ]
    },
    {
      "cell_type": "code",
      "metadata": {
        "colab": {
          "base_uri": "https://localhost:8080/"
        },
        "id": "_QyS5F9Mozua",
        "outputId": "52c91216-7663-4e98-d856-83a048e44877"
      },
      "source": [
        "a>5"
      ],
      "execution_count": 44,
      "outputs": [
        {
          "output_type": "execute_result",
          "data": {
            "text/plain": [
              "array([[False, False, False],\n",
              "       [False, False,  True]])"
            ]
          },
          "metadata": {},
          "execution_count": 44
        }
      ]
    },
    {
      "cell_type": "code",
      "metadata": {
        "colab": {
          "base_uri": "https://localhost:8080/"
        },
        "id": "qjuWWwDGpDLN",
        "outputId": "2f73f427-0d16-43c9-f008-51ad3d027610"
      },
      "source": [
        "np.logical_and(a>5,a==5)"
      ],
      "execution_count": 47,
      "outputs": [
        {
          "output_type": "execute_result",
          "data": {
            "text/plain": [
              "array([[False, False, False],\n",
              "       [False, False, False]])"
            ]
          },
          "metadata": {},
          "execution_count": 47
        }
      ]
    },
    {
      "cell_type": "code",
      "metadata": {
        "colab": {
          "base_uri": "https://localhost:8080/"
        },
        "id": "gAxuOF1Co_9V",
        "outputId": "25abb9fe-f78f-45c7-d6aa-7aeea24624d4"
      },
      "source": [
        "np.logical_or(a>5,a==5)"
      ],
      "execution_count": 48,
      "outputs": [
        {
          "output_type": "execute_result",
          "data": {
            "text/plain": [
              "array([[False, False, False],\n",
              "       [False,  True,  True]])"
            ]
          },
          "metadata": {},
          "execution_count": 48
        }
      ]
    },
    {
      "cell_type": "markdown",
      "metadata": {
        "id": "v35BrOLQpTfi"
      },
      "source": [
        "#Q. Generate random numbers between 1 and 10 of size (4,4) and print the sum of all numbers greater than 5 in a single line of code without using if conditions"
      ]
    },
    {
      "cell_type": "code",
      "metadata": {
        "colab": {
          "base_uri": "https://localhost:8080/"
        },
        "id": "YWDiWn_apnt9",
        "outputId": "c7bfd14c-5c8b-4c71-b267-c5269cfd4b49"
      },
      "source": [
        "a=np.random.randint(1,10,(4,4))\n",
        "a"
      ],
      "execution_count": 51,
      "outputs": [
        {
          "output_type": "execute_result",
          "data": {
            "text/plain": [
              "array([[5, 9, 3, 3],\n",
              "       [5, 6, 6, 2],\n",
              "       [9, 3, 4, 3],\n",
              "       [2, 7, 4, 3]])"
            ]
          },
          "metadata": {},
          "execution_count": 51
        }
      ]
    },
    {
      "cell_type": "code",
      "metadata": {
        "colab": {
          "base_uri": "https://localhost:8080/"
        },
        "id": "bbLveMqCp_xZ",
        "outputId": "ad90c9ea-af81-48f8-9f85-81013b19db13"
      },
      "source": [
        "np.sum((a>5)*a)"
      ],
      "execution_count": 52,
      "outputs": [
        {
          "output_type": "execute_result",
          "data": {
            "text/plain": [
              "37"
            ]
          },
          "metadata": {},
          "execution_count": 52
        }
      ]
    },
    {
      "cell_type": "code",
      "metadata": {
        "id": "x6ogzbSvqoPx"
      },
      "source": [
        "index=np.array([1,2,3,4,5])\n",
        "prices=np.array([100,20,13,54,65])"
      ],
      "execution_count": 53,
      "outputs": []
    },
    {
      "cell_type": "markdown",
      "metadata": {
        "id": "pORQxsP2rIxK"
      },
      "source": [
        "#cheat-sort"
      ]
    },
    {
      "cell_type": "code",
      "metadata": {
        "colab": {
          "base_uri": "https://localhost:8080/"
        },
        "id": "fPKbz-9xq2r1",
        "outputId": "63843507-421b-4dde-8644-a8b00c2262f5"
      },
      "source": [
        "index[np.argsort(prices)] "
      ],
      "execution_count": 55,
      "outputs": [
        {
          "output_type": "execute_result",
          "data": {
            "text/plain": [
              "array([3, 2, 4, 5, 1])"
            ]
          },
          "metadata": {},
          "execution_count": 55
        }
      ]
    }
  ]
}