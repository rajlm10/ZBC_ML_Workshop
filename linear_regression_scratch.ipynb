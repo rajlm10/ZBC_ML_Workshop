{
  "nbformat": 4,
  "nbformat_minor": 0,
  "metadata": {
    "colab": {
      "name": "linear_regression_scratch.ipynb",
      "provenance": [],
      "authorship_tag": "ABX9TyP+0c9H6sVUL5lK6sB8H2jZ",
      "include_colab_link": true
    },
    "kernelspec": {
      "name": "python3",
      "display_name": "Python 3"
    },
    "language_info": {
      "name": "python"
    }
  },
  "cells": [
    {
      "cell_type": "markdown",
      "metadata": {
        "id": "view-in-github",
        "colab_type": "text"
      },
      "source": [
        "<a href=\"https://colab.research.google.com/github/rajlm10/ZBC_ML_Workshop/blob/main/linear_regression_scratch.ipynb\" target=\"_parent\"><img src=\"https://colab.research.google.com/assets/colab-badge.svg\" alt=\"Open In Colab\"/></a>"
      ]
    },
    {
      "cell_type": "code",
      "metadata": {
        "id": "Hgnkrf4E3Fkz"
      },
      "source": [
        "import numpy as np\n",
        "import matplotlib.pyplot as plt\n",
        "import pandas as pd\n",
        "import seaborn as sns"
      ],
      "execution_count": 232,
      "outputs": []
    },
    {
      "cell_type": "code",
      "metadata": {
        "colab": {
          "base_uri": "https://localhost:8080/",
          "height": 204
        },
        "id": "vN2s-9Ra3rWU",
        "outputId": "2c87b14a-8286-4d97-ff39-ef443c109266"
      },
      "source": [
        "data=pd.read_csv(\"Multi_linear.txt\", header=None,names=['Size_in_sq_ft','No_of_rooms','Price_in_USD'])\n",
        "data.head()"
      ],
      "execution_count": 233,
      "outputs": [
        {
          "output_type": "execute_result",
          "data": {
            "text/html": [
              "<div>\n",
              "<style scoped>\n",
              "    .dataframe tbody tr th:only-of-type {\n",
              "        vertical-align: middle;\n",
              "    }\n",
              "\n",
              "    .dataframe tbody tr th {\n",
              "        vertical-align: top;\n",
              "    }\n",
              "\n",
              "    .dataframe thead th {\n",
              "        text-align: right;\n",
              "    }\n",
              "</style>\n",
              "<table border=\"1\" class=\"dataframe\">\n",
              "  <thead>\n",
              "    <tr style=\"text-align: right;\">\n",
              "      <th></th>\n",
              "      <th>Size_in_sq_ft</th>\n",
              "      <th>No_of_rooms</th>\n",
              "      <th>Price_in_USD</th>\n",
              "    </tr>\n",
              "  </thead>\n",
              "  <tbody>\n",
              "    <tr>\n",
              "      <th>0</th>\n",
              "      <td>2104</td>\n",
              "      <td>3</td>\n",
              "      <td>399900</td>\n",
              "    </tr>\n",
              "    <tr>\n",
              "      <th>1</th>\n",
              "      <td>1600</td>\n",
              "      <td>3</td>\n",
              "      <td>329900</td>\n",
              "    </tr>\n",
              "    <tr>\n",
              "      <th>2</th>\n",
              "      <td>2400</td>\n",
              "      <td>3</td>\n",
              "      <td>369000</td>\n",
              "    </tr>\n",
              "    <tr>\n",
              "      <th>3</th>\n",
              "      <td>1416</td>\n",
              "      <td>2</td>\n",
              "      <td>232000</td>\n",
              "    </tr>\n",
              "    <tr>\n",
              "      <th>4</th>\n",
              "      <td>3000</td>\n",
              "      <td>4</td>\n",
              "      <td>539900</td>\n",
              "    </tr>\n",
              "  </tbody>\n",
              "</table>\n",
              "</div>"
            ],
            "text/plain": [
              "   Size_in_sq_ft  No_of_rooms  Price_in_USD\n",
              "0           2104            3        399900\n",
              "1           1600            3        329900\n",
              "2           2400            3        369000\n",
              "3           1416            2        232000\n",
              "4           3000            4        539900"
            ]
          },
          "metadata": {},
          "execution_count": 233
        }
      ]
    },
    {
      "cell_type": "code",
      "metadata": {
        "colab": {
          "base_uri": "https://localhost:8080/",
          "height": 351
        },
        "id": "KQreJ75y4ac0",
        "outputId": "7ecfce2e-c5fd-4708-fc76-8627455b133d"
      },
      "source": [
        "sns.scatterplot(data['Size_in_sq_ft'],data['Price_in_USD'])"
      ],
      "execution_count": 234,
      "outputs": [
        {
          "output_type": "stream",
          "name": "stderr",
          "text": [
            "/usr/local/lib/python3.7/dist-packages/seaborn/_decorators.py:43: FutureWarning: Pass the following variables as keyword args: x, y. From version 0.12, the only valid positional argument will be `data`, and passing other arguments without an explicit keyword will result in an error or misinterpretation.\n",
            "  FutureWarning\n"
          ]
        },
        {
          "output_type": "execute_result",
          "data": {
            "text/plain": [
              "<matplotlib.axes._subplots.AxesSubplot at 0x7f3fbaac3090>"
            ]
          },
          "metadata": {},
          "execution_count": 234
        },
        {
          "output_type": "display_data",
          "data": {
            "image/png": "[encoded data removed]",
            "text/plain": [
              "<Figure size 432x288 with 1 Axes>"
            ]
          },
          "metadata": {
            "needs_background": "light"
          }
        }
      ]
    },
    {
      "cell_type": "code",
      "metadata": {
        "colab": {
          "base_uri": "https://localhost:8080/",
          "height": 351
        },
        "id": "tQt87c7A7wUe",
        "outputId": "b9066f9f-5c0c-43c8-8eba-074f25c8c417"
      },
      "source": [
        "sns.scatterplot(data['No_of_rooms'],data['Price_in_USD'])"
      ],
      "execution_count": 235,
      "outputs": [
        {
          "output_type": "stream",
          "name": "stderr",
          "text": [
            "/usr/local/lib/python3.7/dist-packages/seaborn/_decorators.py:43: FutureWarning: Pass the following variables as keyword args: x, y. From version 0.12, the only valid positional argument will be `data`, and passing other arguments without an explicit keyword will result in an error or misinterpretation.\n",
            "  FutureWarning\n"
          ]
        },
        {
          "output_type": "execute_result",
          "data": {
            "text/plain": [
              "<matplotlib.axes._subplots.AxesSubplot at 0x7f3fbaa45b50>"
            ]
          },
          "metadata": {},
          "execution_count": 235
        },
        {
          "output_type": "display_data",
          "data": {
            "image/png": "[encoded data removed]",
            "text/plain": [
              "<Figure size 432x288 with 1 Axes>"
            ]
          },
          "metadata": {
            "needs_background": "light"
          }
        }
      ]
    },
    {
      "cell_type": "code",
      "metadata": {
        "colab": {
          "base_uri": "https://localhost:8080/"
        },
        "id": "N5BCoyD1-nKB",
        "outputId": "8b8841b1-2255-410b-a326-3f0c03f8202b"
      },
      "source": [
        "X=data.iloc[:,:-1].values\n",
        "X.shape"
      ],
      "execution_count": 236,
      "outputs": [
        {
          "output_type": "execute_result",
          "data": {
            "text/plain": [
              "(47, 2)"
            ]
          },
          "metadata": {},
          "execution_count": 236
        }
      ]
    },
    {
      "cell_type": "code",
      "metadata": {
        "colab": {
          "base_uri": "https://localhost:8080/"
        },
        "id": "wmKo5CsT-7-y",
        "outputId": "4a5847e0-d15c-4dc5-c41a-c04c4bb1a9b5"
      },
      "source": [
        "y=data.iloc[:,-1].values.reshape(47,1)\n",
        "y.shape"
      ],
      "execution_count": 237,
      "outputs": [
        {
          "output_type": "execute_result",
          "data": {
            "text/plain": [
              "(47, 1)"
            ]
          },
          "metadata": {},
          "execution_count": 237
        }
      ]
    },
    {
      "cell_type": "code",
      "metadata": {
        "id": "pRNTOQqj9KJp"
      },
      "source": [
        "def featureNormalization(X):\n",
        "\n",
        "    mean=np.mean(X,axis=0)\n",
        "    std=np.std(X,axis=0)\n",
        "    \n",
        "    X_norm = (X - mean)/std\n",
        "    \n",
        "    return X_norm"
      ],
      "execution_count": 238,
      "outputs": []
    },
    {
      "cell_type": "code",
      "metadata": {
        "id": "z-SdhViy_B0P"
      },
      "source": [
        "X=featureNormalization(X)"
      ],
      "execution_count": 239,
      "outputs": []
    },
    {
      "cell_type": "code",
      "metadata": {
        "colab": {
          "base_uri": "https://localhost:8080/"
        },
        "id": "enZ_WwLPAocr",
        "outputId": "d5639839-fa42-4d10-9726-cca3fcd82e22"
      },
      "source": [
        "X = np.append(np.ones((47,1)),X,axis=1)\n",
        "X.shape"
      ],
      "execution_count": 240,
      "outputs": [
        {
          "output_type": "execute_result",
          "data": {
            "text/plain": [
              "(47, 3)"
            ]
          },
          "metadata": {},
          "execution_count": 240
        }
      ]
    },
    {
      "cell_type": "code",
      "metadata": {
        "colab": {
          "base_uri": "https://localhost:8080/"
        },
        "id": "d6cUGMTZA1XF",
        "outputId": "70577d3b-0e1e-48fd-aacc-d05386efc0ab"
      },
      "source": [
        "X"
      ],
      "execution_count": 241,
      "outputs": [
        {
          "output_type": "execute_result",
          "data": {
            "text/plain": [
              "array([[ 1.00000000e+00,  1.31415422e-01, -2.26093368e-01],\n",
              "       [ 1.00000000e+00, -5.09640698e-01, -2.26093368e-01],\n",
              "       [ 1.00000000e+00,  5.07908699e-01, -2.26093368e-01],\n",
              "       [ 1.00000000e+00, -7.43677059e-01, -1.55439190e+00],\n",
              "       [ 1.00000000e+00,  1.27107075e+00,  1.10220517e+00],\n",
              "       [ 1.00000000e+00, -1.99450507e-02,  1.10220517e+00],\n",
              "       [ 1.00000000e+00, -5.93588523e-01, -2.26093368e-01],\n",
              "       [ 1.00000000e+00, -7.29685755e-01, -2.26093368e-01],\n",
              "       [ 1.00000000e+00, -7.89466782e-01, -2.26093368e-01],\n",
              "       [ 1.00000000e+00, -6.44465993e-01, -2.26093368e-01],\n",
              "       [ 1.00000000e+00, -7.71822042e-02,  1.10220517e+00],\n",
              "       [ 1.00000000e+00, -8.65999486e-04, -2.26093368e-01],\n",
              "       [ 1.00000000e+00, -1.40779041e-01, -2.26093368e-01],\n",
              "       [ 1.00000000e+00,  3.15099326e+00,  2.43050370e+00],\n",
              "       [ 1.00000000e+00, -9.31923697e-01, -2.26093368e-01],\n",
              "       [ 1.00000000e+00,  3.80715024e-01,  1.10220517e+00],\n",
              "       [ 1.00000000e+00, -8.65782986e-01, -1.55439190e+00],\n",
              "       [ 1.00000000e+00, -9.72625673e-01, -2.26093368e-01],\n",
              "       [ 1.00000000e+00,  7.73743478e-01,  1.10220517e+00],\n",
              "       [ 1.00000000e+00,  1.31050078e+00,  1.10220517e+00],\n",
              "       [ 1.00000000e+00, -2.97227261e-01, -2.26093368e-01],\n",
              "       [ 1.00000000e+00, -1.43322915e-01, -1.55439190e+00],\n",
              "       [ 1.00000000e+00, -5.04552951e-01, -2.26093368e-01],\n",
              "       [ 1.00000000e+00, -4.91995958e-02,  1.10220517e+00],\n",
              "       [ 1.00000000e+00,  2.40309445e+00, -2.26093368e-01],\n",
              "       [ 1.00000000e+00, -1.14560907e+00, -2.26093368e-01],\n",
              "       [ 1.00000000e+00, -6.90255715e-01, -2.26093368e-01],\n",
              "       [ 1.00000000e+00,  6.68172729e-01, -2.26093368e-01],\n",
              "       [ 1.00000000e+00,  2.53521350e-01, -2.26093368e-01],\n",
              "       [ 1.00000000e+00,  8.09357707e-01, -2.26093368e-01],\n",
              "       [ 1.00000000e+00, -2.05647815e-01, -1.55439190e+00],\n",
              "       [ 1.00000000e+00, -1.27280274e+00, -2.88269044e+00],\n",
              "       [ 1.00000000e+00,  5.00114703e-02,  1.10220517e+00],\n",
              "       [ 1.00000000e+00,  1.44532608e+00, -2.26093368e-01],\n",
              "       [ 1.00000000e+00, -2.41262044e-01,  1.10220517e+00],\n",
              "       [ 1.00000000e+00, -7.16966387e-01, -2.26093368e-01],\n",
              "       [ 1.00000000e+00, -9.68809863e-01, -2.26093368e-01],\n",
              "       [ 1.00000000e+00,  1.67029651e-01,  1.10220517e+00],\n",
              "       [ 1.00000000e+00,  2.81647389e+00,  1.10220517e+00],\n",
              "       [ 1.00000000e+00,  2.05187753e-01,  1.10220517e+00],\n",
              "       [ 1.00000000e+00, -4.28236746e-01, -1.55439190e+00],\n",
              "       [ 1.00000000e+00,  3.01854946e-01, -2.26093368e-01],\n",
              "       [ 1.00000000e+00,  7.20322135e-01,  1.10220517e+00],\n",
              "       [ 1.00000000e+00, -1.01841540e+00, -2.26093368e-01],\n",
              "       [ 1.00000000e+00, -1.46104938e+00, -1.55439190e+00],\n",
              "       [ 1.00000000e+00, -1.89112638e-01,  1.10220517e+00],\n",
              "       [ 1.00000000e+00, -1.01459959e+00, -2.26093368e-01]])"
            ]
          },
          "metadata": {},
          "execution_count": 241
        }
      ]
    },
    {
      "cell_type": "code",
      "metadata": {
        "id": "Kor3KEGkBb2k"
      },
      "source": [
        "def compute_cost(X,y,theta):\n",
        "\n",
        "    m=y.shape[0]\n",
        "    predictions=X.dot(theta)\n",
        "\n",
        "    square_err=(predictions - y)**2\n",
        "\n",
        "    \n",
        "    return 1/(2*m) * np.sum(square_err)"
      ],
      "execution_count": 242,
      "outputs": []
    },
    {
      "cell_type": "code",
      "metadata": {
        "colab": {
          "base_uri": "https://localhost:8080/"
        },
        "id": "rjeaH2v4MxgW",
        "outputId": "2b33997d-2ca1-4b6b-dec4-112455522275"
      },
      "source": [
        "compute_cost(X,y,np.zeros((3,1)))"
      ],
      "execution_count": 243,
      "outputs": [
        {
          "output_type": "execute_result",
          "data": {
            "text/plain": [
              "65591548106.45744"
            ]
          },
          "metadata": {},
          "execution_count": 243
        }
      ]
    },
    {
      "cell_type": "code",
      "metadata": {
        "id": "ulHEnKJZGyiB"
      },
      "source": [
        "def gradientDescent(X,y,theta,alpha=0.1,num_iters=500):\n",
        "\n",
        "    m=X.shape[0]\n",
        "    costs=[]\n",
        "    \n",
        "    for i in range(num_iters):\n",
        "        theta-=alpha*1/m*(np.dot(X.T,(np.dot(X,theta)-y)))\n",
        "        costs.append(compute_cost(X,y,theta))\n",
        "    \n",
        "    return theta, costs\n"
      ],
      "execution_count": 244,
      "outputs": []
    },
    {
      "cell_type": "code",
      "metadata": {
        "id": "UBthdnyUOz1M"
      },
      "source": [
        "theta_matrix=np.random.rand(3,1)"
      ],
      "execution_count": 245,
      "outputs": []
    },
    {
      "cell_type": "code",
      "metadata": {
        "id": "2Zc_LthRG84-"
      },
      "source": [
        "thetas,costs=gradientDescent(X,y,theta_matrix,0.1,500)"
      ],
      "execution_count": 246,
      "outputs": []
    },
    {
      "cell_type": "code",
      "metadata": {
        "colab": {
          "base_uri": "https://localhost:8080/"
        },
        "id": "qmgiyMDdRZYk",
        "outputId": "f1f19995-9514-40f6-c427-e9678886cb42"
      },
      "source": [
        "thetas"
      ],
      "execution_count": 247,
      "outputs": [
        {
          "output_type": "execute_result",
          "data": {
            "text/plain": [
              "array([[340412.65957447],\n",
              "       [109447.79645983],\n",
              "       [ -6578.35484435]])"
            ]
          },
          "metadata": {},
          "execution_count": 247
        }
      ]
    },
    {
      "cell_type": "code",
      "metadata": {
        "colab": {
          "base_uri": "https://localhost:8080/",
          "height": 293
        },
        "id": "TxhBHb2APArA",
        "outputId": "0dd4fe3e-2601-4869-dd26-1c183521a316"
      },
      "source": [
        "sns.lineplot(x=list(range(500)),y=costs)"
      ],
      "execution_count": 248,
      "outputs": [
        {
          "output_type": "execute_result",
          "data": {
            "text/plain": [
              "<matplotlib.axes._subplots.AxesSubplot at 0x7f3fba9d6310>"
            ]
          },
          "metadata": {},
          "execution_count": 248
        },
        {
          "output_type": "display_data",
          "data": {
            "image/png": "[encoded data removed]",
            "text/plain": [
              "<Figure size 432x288 with 1 Axes>"
            ]
          },
          "metadata": {
            "needs_background": "light"
          }
        }
      ]
    },
    {
      "cell_type": "code",
      "metadata": {
        "id": "oVfV80gqPugD"
      },
      "source": [
        "def predict(X,thetas):\n",
        "  return np.dot(X,thetas)"
      ],
      "execution_count": 249,
      "outputs": []
    },
    {
      "cell_type": "code",
      "metadata": {
        "colab": {
          "base_uri": "https://localhost:8080/"
        },
        "id": "gOqrCrzoShSv",
        "outputId": "a85fa18a-2519-441a-cc3d-fe863fb5bfdd"
      },
      "source": [
        "#feature normalisation of x values\n",
        "x_sample = featureNormalization(np.array([[2100,3],[1000,1],[5000,5]]))\n",
        "x_sample=np.append(np.ones((x_sample.shape[0],1)),x_sample,axis=1)\n",
        "predict3=predict(x_sample,thetas)\n",
        "#print(\"For size of house = 1650, Number of bedroom = 3, we predict a house value of $\"+str(np.round(predict3,0)))\n",
        "predict3"
      ],
      "execution_count": 250,
      "outputs": [
        {
          "output_type": "execute_result",
          "data": {
            "text/plain": [
              "array([[301491.12413973],\n",
              "       [238191.78220051],\n",
              "       [481555.07238317]])"
            ]
          },
          "metadata": {},
          "execution_count": 250
        }
      ]
    },
    {
      "cell_type": "code",
      "metadata": {
        "colab": {
          "base_uri": "https://localhost:8080/"
        },
        "id": "aoNQxPxCQQk8",
        "outputId": "4357f5e2-75a5-4c6d-f8f2-8ec335cdd6f8"
      },
      "source": [
        "from sklearn.linear_model import LinearRegression\n",
        "\n",
        "reg = LinearRegression().fit(X[:,1:], y)\n",
        "\n",
        "reg.coef_"
      ],
      "execution_count": 251,
      "outputs": [
        {
          "output_type": "execute_result",
          "data": {
            "text/plain": [
              "array([[109447.79646964,  -6578.35485416]])"
            ]
          },
          "metadata": {},
          "execution_count": 251
        }
      ]
    },
    {
      "cell_type": "code",
      "metadata": {
        "colab": {
          "base_uri": "https://localhost:8080/"
        },
        "id": "wYtbE0JbVlYK",
        "outputId": "e4948a7d-a109-482b-f12e-6fd6a9cfd638"
      },
      "source": [
        "compute_cost(X[:,1:],y,reg.coef_.T)"
      ],
      "execution_count": 253,
      "outputs": [
        {
          "output_type": "execute_result",
          "data": {
            "text/plain": [
              "59983669449.884186"
            ]
          },
          "metadata": {},
          "execution_count": 253
        }
      ]
    },
    {
      "cell_type": "code",
      "metadata": {
        "colab": {
          "base_uri": "https://localhost:8080/"
        },
        "id": "9O7ca-0hTP1b",
        "outputId": "e930ae5d-3ff7-4829-9764-8c0090719f2a"
      },
      "source": [
        "x_sample"
      ],
      "execution_count": 255,
      "outputs": [
        {
          "output_type": "execute_result",
          "data": {
            "text/plain": [
              "array([[ 1.        , -0.35561735,  0.        ],\n",
              "       [ 1.        , -1.00758249, -1.22474487],\n",
              "       [ 1.        ,  1.36319984,  1.22474487]])"
            ]
          },
          "metadata": {},
          "execution_count": 255
        }
      ]
    },
    {
      "cell_type": "code",
      "metadata": {
        "colab": {
          "base_uri": "https://localhost:8080/"
        },
        "id": "k0oMc7n-RBip",
        "outputId": "2fcd7f2f-1f10-4bb7-80b9-11b1f5ebe24d"
      },
      "source": [
        "reg.predict(x_sample[:,1:])"
      ],
      "execution_count": 256,
      "outputs": [
        {
          "output_type": "execute_result",
          "data": {
            "text/plain": [
              "array([[301491.12413624],\n",
              "       [238191.78220264],\n",
              "       [481555.07238452]])"
            ]
          },
          "metadata": {},
          "execution_count": 256
        }
      ]
    },
    {
      "cell_type": "code",
      "metadata": {
        "colab": {
          "base_uri": "https://localhost:8080/"
        },
        "id": "lx73fOsIUxJH",
        "outputId": "e04d2811-0d27-469f-8e4a-7037571990c6"
      },
      "source": [
        "reg.predict(np.array([[2100,3],[1000,1],[5000,5]]))"
      ],
      "execution_count": 257,
      "outputs": [
        {
          "output_type": "execute_result",
          "data": {
            "text/plain": [
              "array([[2.30161050e+08],\n",
              "       [1.09781631e+08],\n",
              "       [5.47546503e+08]])"
            ]
          },
          "metadata": {},
          "execution_count": 257
        }
      ]
    },
    {
      "cell_type": "code",
      "metadata": {
        "colab": {
          "base_uri": "https://localhost:8080/"
        },
        "id": "DFrQ9LS9U_DO",
        "outputId": "af762cd3-78e0-4322-b85d-5894544e940c"
      },
      "source": [
        "X=data.iloc[:,:-1].values\n",
        "\n",
        "from sklearn.linear_model import LinearRegression\n",
        "\n",
        "reg = LinearRegression().fit(X , y)\n",
        "\n",
        "reg.coef_"
      ],
      "execution_count": 258,
      "outputs": [
        {
          "output_type": "execute_result",
          "data": {
            "text/plain": [
              "array([[  139.21067402, -8738.01911233]])"
            ]
          },
          "metadata": {},
          "execution_count": 258
        }
      ]
    },
    {
      "cell_type": "code",
      "metadata": {
        "colab": {
          "base_uri": "https://localhost:8080/"
        },
        "id": "Ic9ojR6YVGJt",
        "outputId": "dc802604-3500-4c6e-e2c9-2c1a963e22b6"
      },
      "source": [
        "reg.predict(np.array([[2100,3],[1000,1],[5000,5]]))"
      ],
      "execution_count": 259,
      "outputs": [
        {
          "output_type": "execute_result",
          "data": {
            "text/plain": [
              "array([[355726.26764283],\n",
              "       [220070.5644481 ],\n",
              "       [741961.18406929]])"
            ]
          },
          "metadata": {},
          "execution_count": 259
        }
      ]
    },
    {
      "cell_type": "code",
      "metadata": {
        "colab": {
          "base_uri": "https://localhost:8080/"
        },
        "id": "aUtCIDBZVRjS",
        "outputId": "51aa47a6-8c61-4369-c932-cced80949bc5"
      },
      "source": [
        "compute_cost(X,y,reg.coef_.T)"
      ],
      "execution_count": 260,
      "outputs": [
        {
          "output_type": "execute_result",
          "data": {
            "text/plain": [
              "6057172747.822495"
            ]
          },
          "metadata": {},
          "execution_count": 260
        }
      ]
    }
  ]
}