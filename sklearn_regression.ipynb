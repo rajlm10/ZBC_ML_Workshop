{
  "nbformat": 4,
  "nbformat_minor": 0,
  "metadata": {
    "colab": {
      "name": "sklearn_regression.ipynb",
      "provenance": [],
      "authorship_tag": "ABX9TyOsMvx9OE8XvssyUG1afy4d",
      "include_colab_link": true
    },
    "kernelspec": {
      "name": "python3",
      "display_name": "Python 3"
    },
    "language_info": {
      "name": "python"
    }
  },
  "cells": [
    {
      "cell_type": "markdown",
      "metadata": {
        "id": "view-in-github",
        "colab_type": "text"
      },
      "source": [
        "<a href=\"https://colab.research.google.com/github/rajlm10/ZBC_ML_Workshop/blob/main/sklearn_regression.ipynb\" target=\"_parent\"><img src=\"https://colab.research.google.com/assets/colab-badge.svg\" alt=\"Open In Colab\"/></a>"
      ]
    },
    {
      "cell_type": "code",
      "metadata": {
        "id": "qjmZIV9SvFq2"
      },
      "source": [
        "import pandas as pd\n",
        "import numpy as np\n",
        "import matplotlib.pyplot as plt\n",
        "import seaborn as sns"
      ],
      "execution_count": 1,
      "outputs": []
    },
    {
      "cell_type": "code",
      "metadata": {
        "id": "2jc9cgZSvaR4"
      },
      "source": [
        "data=pd.read_csv('/content/50_Startups.csv')"
      ],
      "execution_count": 2,
      "outputs": []
    },
    {
      "cell_type": "code",
      "metadata": {
        "colab": {
          "base_uri": "https://localhost:8080/",
          "height": 204
        },
        "id": "LKM96qufvdKi",
        "outputId": "02b71bf9-c19c-453b-9b40-c2df89f26b37"
      },
      "source": [
        "data.head()"
      ],
      "execution_count": 3,
      "outputs": [
        {
          "output_type": "execute_result",
          "data": {
            "text/html": [
              "<div>\n",
              "<style scoped>\n",
              "    .dataframe tbody tr th:only-of-type {\n",
              "        vertical-align: middle;\n",
              "    }\n",
              "\n",
              "    .dataframe tbody tr th {\n",
              "        vertical-align: top;\n",
              "    }\n",
              "\n",
              "    .dataframe thead th {\n",
              "        text-align: right;\n",
              "    }\n",
              "</style>\n",
              "<table border=\"1\" class=\"dataframe\">\n",
              "  <thead>\n",
              "    <tr style=\"text-align: right;\">\n",
              "      <th></th>\n",
              "      <th>R&amp;D Spend</th>\n",
              "      <th>Administration</th>\n",
              "      <th>Marketing Spend</th>\n",
              "      <th>State</th>\n",
              "      <th>Profit</th>\n",
              "    </tr>\n",
              "  </thead>\n",
              "  <tbody>\n",
              "    <tr>\n",
              "      <th>0</th>\n",
              "      <td>165349.20</td>\n",
              "      <td>136897.80</td>\n",
              "      <td>471784.10</td>\n",
              "      <td>New York</td>\n",
              "      <td>192261.83</td>\n",
              "    </tr>\n",
              "    <tr>\n",
              "      <th>1</th>\n",
              "      <td>162597.70</td>\n",
              "      <td>151377.59</td>\n",
              "      <td>443898.53</td>\n",
              "      <td>California</td>\n",
              "      <td>191792.06</td>\n",
              "    </tr>\n",
              "    <tr>\n",
              "      <th>2</th>\n",
              "      <td>153441.51</td>\n",
              "      <td>101145.55</td>\n",
              "      <td>407934.54</td>\n",
              "      <td>Florida</td>\n",
              "      <td>191050.39</td>\n",
              "    </tr>\n",
              "    <tr>\n",
              "      <th>3</th>\n",
              "      <td>144372.41</td>\n",
              "      <td>118671.85</td>\n",
              "      <td>383199.62</td>\n",
              "      <td>New York</td>\n",
              "      <td>182901.99</td>\n",
              "    </tr>\n",
              "    <tr>\n",
              "      <th>4</th>\n",
              "      <td>142107.34</td>\n",
              "      <td>91391.77</td>\n",
              "      <td>366168.42</td>\n",
              "      <td>Florida</td>\n",
              "      <td>166187.94</td>\n",
              "    </tr>\n",
              "  </tbody>\n",
              "</table>\n",
              "</div>"
            ],
            "text/plain": [
              "   R&D Spend  Administration  Marketing Spend       State     Profit\n",
              "0  165349.20       136897.80        471784.10    New York  192261.83\n",
              "1  162597.70       151377.59        443898.53  California  191792.06\n",
              "2  153441.51       101145.55        407934.54     Florida  191050.39\n",
              "3  144372.41       118671.85        383199.62    New York  182901.99\n",
              "4  142107.34        91391.77        366168.42     Florida  166187.94"
            ]
          },
          "metadata": {},
          "execution_count": 3
        }
      ]
    },
    {
      "cell_type": "code",
      "metadata": {
        "colab": {
          "base_uri": "https://localhost:8080/"
        },
        "id": "zD-zjfMZvfAI",
        "outputId": "01ab5af6-857c-4957-9b6b-b61b4352e7ed"
      },
      "source": [
        "data.info()"
      ],
      "execution_count": 4,
      "outputs": [
        {
          "output_type": "stream",
          "name": "stdout",
          "text": [
            "<class 'pandas.core.frame.DataFrame'>\n",
            "RangeIndex: 50 entries, 0 to 49\n",
            "Data columns (total 5 columns):\n",
            " #   Column           Non-Null Count  Dtype  \n",
            "---  ------           --------------  -----  \n",
            " 0   R&D Spend        50 non-null     float64\n",
            " 1   Administration   50 non-null     float64\n",
            " 2   Marketing Spend  50 non-null     float64\n",
            " 3   State            50 non-null     object \n",
            " 4   Profit           50 non-null     float64\n",
            "dtypes: float64(4), object(1)\n",
            "memory usage: 2.1+ KB\n"
          ]
        }
      ]
    },
    {
      "cell_type": "code",
      "metadata": {
        "colab": {
          "base_uri": "https://localhost:8080/"
        },
        "id": "ZiPsBWPEwXFr",
        "outputId": "97429643-3433-43c7-df2d-3293ff14a37d"
      },
      "source": [
        "X=data.iloc[:,:-1].values\n",
        "print(X.shape)\n",
        "y=data.iloc[:,-1].values.reshape(X.shape[0],1)\n",
        "print(y.shape)"
      ],
      "execution_count": 6,
      "outputs": [
        {
          "output_type": "stream",
          "name": "stdout",
          "text": [
            "(50, 4)\n",
            "(50, 1)\n"
          ]
        }
      ]
    },
    {
      "cell_type": "code",
      "metadata": {
        "id": "g_uSGhwJvy0h"
      },
      "source": [
        "from sklearn.model_selection import train_test_split\n",
        "X_train, X_test, y_train, y_test = train_test_split(X, y, test_size = 0.2, random_state = 42)"
      ],
      "execution_count": 8,
      "outputs": []
    },
    {
      "cell_type": "code",
      "metadata": {
        "colab": {
          "base_uri": "https://localhost:8080/"
        },
        "id": "OddaUUodwuim",
        "outputId": "3cfa74f0-9eb9-415c-ca7c-65125443ff2e"
      },
      "source": [
        "X_train"
      ],
      "execution_count": 9,
      "outputs": [
        {
          "output_type": "execute_result",
          "data": {
            "text/plain": [
              "array([[93863.75, 127320.38, 249839.44, 'Florida'],\n",
              "       [142107.34, 91391.77, 366168.42, 'Florida'],\n",
              "       [44069.95, 51283.14, 197029.42, 'California'],\n",
              "       [120542.52, 148718.95, 311613.29, 'New York'],\n",
              "       [144372.41, 118671.85, 383199.62, 'New York'],\n",
              "       [134615.46, 147198.87, 127716.82, 'California'],\n",
              "       [27892.92, 84710.77, 164470.71, 'Florida'],\n",
              "       [1315.46, 115816.21, 297114.46, 'Florida'],\n",
              "       [0.0, 135426.92, 0.0, 'California'],\n",
              "       [114523.61, 122616.84, 261776.23, 'New York'],\n",
              "       [123334.88, 108679.17, 304981.62, 'California'],\n",
              "       [78013.11, 121597.55, 264346.06, 'California'],\n",
              "       [77044.01, 99281.34, 140574.81, 'New York'],\n",
              "       [46426.07, 157693.92, 210797.67, 'California'],\n",
              "       [61136.38, 152701.92, 88218.23, 'New York'],\n",
              "       [165349.2, 136897.8, 471784.1, 'New York'],\n",
              "       [22177.74, 154806.14, 28334.72, 'California'],\n",
              "       [72107.6, 127864.55, 353183.81, 'New York'],\n",
              "       [55493.95, 103057.49, 214634.81, 'Florida'],\n",
              "       [131876.9, 99814.71, 362861.36, 'New York'],\n",
              "       [65605.48, 153032.06, 107138.38, 'New York'],\n",
              "       [100671.96, 91790.61, 249744.55, 'California'],\n",
              "       [28663.76, 127056.21, 201126.82, 'Florida'],\n",
              "       [162597.7, 151377.59, 443898.53, 'California'],\n",
              "       [78389.47, 153773.43, 299737.29, 'New York'],\n",
              "       [153441.51, 101145.55, 407934.54, 'Florida'],\n",
              "       [15505.73, 127382.3, 35534.17, 'New York'],\n",
              "       [46014.02, 85047.44, 205517.64, 'New York'],\n",
              "       [67532.53, 105751.03, 304768.73, 'Florida'],\n",
              "       [28754.33, 118546.05, 172795.67, 'California'],\n",
              "       [101913.08, 110594.11, 229160.95, 'Florida'],\n",
              "       [73994.56, 122782.75, 303319.26, 'Florida'],\n",
              "       [91749.16, 114175.79, 294919.57, 'Florida'],\n",
              "       [0.0, 116983.8, 45173.06, 'California'],\n",
              "       [76253.86, 113867.3, 298664.47, 'California'],\n",
              "       [130298.13, 145530.06, 323876.68, 'Florida'],\n",
              "       [23640.93, 96189.63, 148001.11, 'California'],\n",
              "       [119943.24, 156547.42, 256512.92, 'Florida'],\n",
              "       [66051.52, 182645.56, 118148.2, 'Florida'],\n",
              "       [20229.59, 65947.93, 185265.1, 'New York']], dtype=object)"
            ]
          },
          "metadata": {},
          "execution_count": 9
        }
      ]
    },
    {
      "cell_type": "code",
      "metadata": {
        "colab": {
          "base_uri": "https://localhost:8080/",
          "height": 1000
        },
        "id": "2PnjAxuuw1yr",
        "outputId": "5222f3dd-c5eb-433c-cf60-667a4acb8b79"
      },
      "source": [
        "from sklearn.preprocessing import OneHotEncoder\n",
        "ohe = OneHotEncoder(sparse=False, handle_unknown='ignore')\n",
        "train_enc = ohe.fit_transform(X_train[:,3].reshape(X_train.shape[0],1))\n",
        "#Converting back to a dataframe \n",
        "pd.DataFrame(train_enc, columns=ohe.get_feature_names())"
      ],
      "execution_count": 14,
      "outputs": [
        {
          "output_type": "execute_result",
          "data": {
            "text/html": [
              "<div>\n",
              "<style scoped>\n",
              "    .dataframe tbody tr th:only-of-type {\n",
              "        vertical-align: middle;\n",
              "    }\n",
              "\n",
              "    .dataframe tbody tr th {\n",
              "        vertical-align: top;\n",
              "    }\n",
              "\n",
              "    .dataframe thead th {\n",
              "        text-align: right;\n",
              "    }\n",
              "</style>\n",
              "<table border=\"1\" class=\"dataframe\">\n",
              "  <thead>\n",
              "    <tr style=\"text-align: right;\">\n",
              "      <th></th>\n",
              "      <th>x0_California</th>\n",
              "      <th>x0_Florida</th>\n",
              "      <th>x0_New York</th>\n",
              "    </tr>\n",
              "  </thead>\n",
              "  <tbody>\n",
              "    <tr>\n",
              "      <th>0</th>\n",
              "      <td>0.0</td>\n",
              "      <td>1.0</td>\n",
              "      <td>0.0</td>\n",
              "    </tr>\n",
              "    <tr>\n",
              "      <th>1</th>\n",
              "      <td>0.0</td>\n",
              "      <td>1.0</td>\n",
              "      <td>0.0</td>\n",
              "    </tr>\n",
              "    <tr>\n",
              "      <th>2</th>\n",
              "      <td>1.0</td>\n",
              "      <td>0.0</td>\n",
              "      <td>0.0</td>\n",
              "    </tr>\n",
              "    <tr>\n",
              "      <th>3</th>\n",
              "      <td>0.0</td>\n",
              "      <td>0.0</td>\n",
              "      <td>1.0</td>\n",
              "    </tr>\n",
              "    <tr>\n",
              "      <th>4</th>\n",
              "      <td>0.0</td>\n",
              "      <td>0.0</td>\n",
              "      <td>1.0</td>\n",
              "    </tr>\n",
              "    <tr>\n",
              "      <th>5</th>\n",
              "      <td>1.0</td>\n",
              "      <td>0.0</td>\n",
              "      <td>0.0</td>\n",
              "    </tr>\n",
              "    <tr>\n",
              "      <th>6</th>\n",
              "      <td>0.0</td>\n",
              "      <td>1.0</td>\n",
              "      <td>0.0</td>\n",
              "    </tr>\n",
              "    <tr>\n",
              "      <th>7</th>\n",
              "      <td>0.0</td>\n",
              "      <td>1.0</td>\n",
              "      <td>0.0</td>\n",
              "    </tr>\n",
              "    <tr>\n",
              "      <th>8</th>\n",
              "      <td>1.0</td>\n",
              "      <td>0.0</td>\n",
              "      <td>0.0</td>\n",
              "    </tr>\n",
              "    <tr>\n",
              "      <th>9</th>\n",
              "      <td>0.0</td>\n",
              "      <td>0.0</td>\n",
              "      <td>1.0</td>\n",
              "    </tr>\n",
              "    <tr>\n",
              "      <th>10</th>\n",
              "      <td>1.0</td>\n",
              "      <td>0.0</td>\n",
              "      <td>0.0</td>\n",
              "    </tr>\n",
              "    <tr>\n",
              "      <th>11</th>\n",
              "      <td>1.0</td>\n",
              "      <td>0.0</td>\n",
              "      <td>0.0</td>\n",
              "    </tr>\n",
              "    <tr>\n",
              "      <th>12</th>\n",
              "      <td>0.0</td>\n",
              "      <td>0.0</td>\n",
              "      <td>1.0</td>\n",
              "    </tr>\n",
              "    <tr>\n",
              "      <th>13</th>\n",
              "      <td>1.0</td>\n",
              "      <td>0.0</td>\n",
              "      <td>0.0</td>\n",
              "    </tr>\n",
              "    <tr>\n",
              "      <th>14</th>\n",
              "      <td>0.0</td>\n",
              "      <td>0.0</td>\n",
              "      <td>1.0</td>\n",
              "    </tr>\n",
              "    <tr>\n",
              "      <th>15</th>\n",
              "      <td>0.0</td>\n",
              "      <td>0.0</td>\n",
              "      <td>1.0</td>\n",
              "    </tr>\n",
              "    <tr>\n",
              "      <th>16</th>\n",
              "      <td>1.0</td>\n",
              "      <td>0.0</td>\n",
              "      <td>0.0</td>\n",
              "    </tr>\n",
              "    <tr>\n",
              "      <th>17</th>\n",
              "      <td>0.0</td>\n",
              "      <td>0.0</td>\n",
              "      <td>1.0</td>\n",
              "    </tr>\n",
              "    <tr>\n",
              "      <th>18</th>\n",
              "      <td>0.0</td>\n",
              "      <td>1.0</td>\n",
              "      <td>0.0</td>\n",
              "    </tr>\n",
              "    <tr>\n",
              "      <th>19</th>\n",
              "      <td>0.0</td>\n",
              "      <td>0.0</td>\n",
              "      <td>1.0</td>\n",
              "    </tr>\n",
              "    <tr>\n",
              "      <th>20</th>\n",
              "      <td>0.0</td>\n",
              "      <td>0.0</td>\n",
              "      <td>1.0</td>\n",
              "    </tr>\n",
              "    <tr>\n",
              "      <th>21</th>\n",
              "      <td>1.0</td>\n",
              "      <td>0.0</td>\n",
              "      <td>0.0</td>\n",
              "    </tr>\n",
              "    <tr>\n",
              "      <th>22</th>\n",
              "      <td>0.0</td>\n",
              "      <td>1.0</td>\n",
              "      <td>0.0</td>\n",
              "    </tr>\n",
              "    <tr>\n",
              "      <th>23</th>\n",
              "      <td>1.0</td>\n",
              "      <td>0.0</td>\n",
              "      <td>0.0</td>\n",
              "    </tr>\n",
              "    <tr>\n",
              "      <th>24</th>\n",
              "      <td>0.0</td>\n",
              "      <td>0.0</td>\n",
              "      <td>1.0</td>\n",
              "    </tr>\n",
              "    <tr>\n",
              "      <th>25</th>\n",
              "      <td>0.0</td>\n",
              "      <td>1.0</td>\n",
              "      <td>0.0</td>\n",
              "    </tr>\n",
              "    <tr>\n",
              "      <th>26</th>\n",
              "      <td>0.0</td>\n",
              "      <td>0.0</td>\n",
              "      <td>1.0</td>\n",
              "    </tr>\n",
              "    <tr>\n",
              "      <th>27</th>\n",
              "      <td>0.0</td>\n",
              "      <td>0.0</td>\n",
              "      <td>1.0</td>\n",
              "    </tr>\n",
              "    <tr>\n",
              "      <th>28</th>\n",
              "      <td>0.0</td>\n",
              "      <td>1.0</td>\n",
              "      <td>0.0</td>\n",
              "    </tr>\n",
              "    <tr>\n",
              "      <th>29</th>\n",
              "      <td>1.0</td>\n",
              "      <td>0.0</td>\n",
              "      <td>0.0</td>\n",
              "    </tr>\n",
              "    <tr>\n",
              "      <th>30</th>\n",
              "      <td>0.0</td>\n",
              "      <td>1.0</td>\n",
              "      <td>0.0</td>\n",
              "    </tr>\n",
              "    <tr>\n",
              "      <th>31</th>\n",
              "      <td>0.0</td>\n",
              "      <td>1.0</td>\n",
              "      <td>0.0</td>\n",
              "    </tr>\n",
              "    <tr>\n",
              "      <th>32</th>\n",
              "      <td>0.0</td>\n",
              "      <td>1.0</td>\n",
              "      <td>0.0</td>\n",
              "    </tr>\n",
              "    <tr>\n",
              "      <th>33</th>\n",
              "      <td>1.0</td>\n",
              "      <td>0.0</td>\n",
              "      <td>0.0</td>\n",
              "    </tr>\n",
              "    <tr>\n",
              "      <th>34</th>\n",
              "      <td>1.0</td>\n",
              "      <td>0.0</td>\n",
              "      <td>0.0</td>\n",
              "    </tr>\n",
              "    <tr>\n",
              "      <th>35</th>\n",
              "      <td>0.0</td>\n",
              "      <td>1.0</td>\n",
              "      <td>0.0</td>\n",
              "    </tr>\n",
              "    <tr>\n",
              "      <th>36</th>\n",
              "      <td>1.0</td>\n",
              "      <td>0.0</td>\n",
              "      <td>0.0</td>\n",
              "    </tr>\n",
              "    <tr>\n",
              "      <th>37</th>\n",
              "      <td>0.0</td>\n",
              "      <td>1.0</td>\n",
              "      <td>0.0</td>\n",
              "    </tr>\n",
              "    <tr>\n",
              "      <th>38</th>\n",
              "      <td>0.0</td>\n",
              "      <td>1.0</td>\n",
              "      <td>0.0</td>\n",
              "    </tr>\n",
              "    <tr>\n",
              "      <th>39</th>\n",
              "      <td>0.0</td>\n",
              "      <td>0.0</td>\n",
              "      <td>1.0</td>\n",
              "    </tr>\n",
              "  </tbody>\n",
              "</table>\n",
              "</div>"
            ],
            "text/plain": [
              "    x0_California  x0_Florida  x0_New York\n",
              "0             0.0         1.0          0.0\n",
              "1             0.0         1.0          0.0\n",
              "2             1.0         0.0          0.0\n",
              "3             0.0         0.0          1.0\n",
              "4             0.0         0.0          1.0\n",
              "5             1.0         0.0          0.0\n",
              "6             0.0         1.0          0.0\n",
              "7             0.0         1.0          0.0\n",
              "8             1.0         0.0          0.0\n",
              "9             0.0         0.0          1.0\n",
              "10            1.0         0.0          0.0\n",
              "11            1.0         0.0          0.0\n",
              "12            0.0         0.0          1.0\n",
              "13            1.0         0.0          0.0\n",
              "14            0.0         0.0          1.0\n",
              "15            0.0         0.0          1.0\n",
              "16            1.0         0.0          0.0\n",
              "17            0.0         0.0          1.0\n",
              "18            0.0         1.0          0.0\n",
              "19            0.0         0.0          1.0\n",
              "20            0.0         0.0          1.0\n",
              "21            1.0         0.0          0.0\n",
              "22            0.0         1.0          0.0\n",
              "23            1.0         0.0          0.0\n",
              "24            0.0         0.0          1.0\n",
              "25            0.0         1.0          0.0\n",
              "26            0.0         0.0          1.0\n",
              "27            0.0         0.0          1.0\n",
              "28            0.0         1.0          0.0\n",
              "29            1.0         0.0          0.0\n",
              "30            0.0         1.0          0.0\n",
              "31            0.0         1.0          0.0\n",
              "32            0.0         1.0          0.0\n",
              "33            1.0         0.0          0.0\n",
              "34            1.0         0.0          0.0\n",
              "35            0.0         1.0          0.0\n",
              "36            1.0         0.0          0.0\n",
              "37            0.0         1.0          0.0\n",
              "38            0.0         1.0          0.0\n",
              "39            0.0         0.0          1.0"
            ]
          },
          "metadata": {},
          "execution_count": 14
        }
      ]
    },
    {
      "cell_type": "code",
      "metadata": {
        "colab": {
          "base_uri": "https://localhost:8080/",
          "height": 1000
        },
        "id": "RqxkUEstyAtq",
        "outputId": "48be9680-c20f-48ff-9401-97fce0be6011"
      },
      "source": [
        "from sklearn.preprocessing import OneHotEncoder\n",
        "ohe = OneHotEncoder(sparse=False,drop='first')\n",
        "train_enc = ohe.fit_transform(X_train[:,3].reshape(X_train.shape[0],1))\n",
        "#Converting back to a dataframe \n",
        "pd.DataFrame(train_enc, columns=ohe.get_feature_names())"
      ],
      "execution_count": 18,
      "outputs": [
        {
          "output_type": "execute_result",
          "data": {
            "text/html": [
              "<div>\n",
              "<style scoped>\n",
              "    .dataframe tbody tr th:only-of-type {\n",
              "        vertical-align: middle;\n",
              "    }\n",
              "\n",
              "    .dataframe tbody tr th {\n",
              "        vertical-align: top;\n",
              "    }\n",
              "\n",
              "    .dataframe thead th {\n",
              "        text-align: right;\n",
              "    }\n",
              "</style>\n",
              "<table border=\"1\" class=\"dataframe\">\n",
              "  <thead>\n",
              "    <tr style=\"text-align: right;\">\n",
              "      <th></th>\n",
              "      <th>x0_Florida</th>\n",
              "      <th>x0_New York</th>\n",
              "    </tr>\n",
              "  </thead>\n",
              "  <tbody>\n",
              "    <tr>\n",
              "      <th>0</th>\n",
              "      <td>1.0</td>\n",
              "      <td>0.0</td>\n",
              "    </tr>\n",
              "    <tr>\n",
              "      <th>1</th>\n",
              "      <td>1.0</td>\n",
              "      <td>0.0</td>\n",
              "    </tr>\n",
              "    <tr>\n",
              "      <th>2</th>\n",
              "      <td>0.0</td>\n",
              "      <td>0.0</td>\n",
              "    </tr>\n",
              "    <tr>\n",
              "      <th>3</th>\n",
              "      <td>0.0</td>\n",
              "      <td>1.0</td>\n",
              "    </tr>\n",
              "    <tr>\n",
              "      <th>4</th>\n",
              "      <td>0.0</td>\n",
              "      <td>1.0</td>\n",
              "    </tr>\n",
              "    <tr>\n",
              "      <th>5</th>\n",
              "      <td>0.0</td>\n",
              "      <td>0.0</td>\n",
              "    </tr>\n",
              "    <tr>\n",
              "      <th>6</th>\n",
              "      <td>1.0</td>\n",
              "      <td>0.0</td>\n",
              "    </tr>\n",
              "    <tr>\n",
              "      <th>7</th>\n",
              "      <td>1.0</td>\n",
              "      <td>0.0</td>\n",
              "    </tr>\n",
              "    <tr>\n",
              "      <th>8</th>\n",
              "      <td>0.0</td>\n",
              "      <td>0.0</td>\n",
              "    </tr>\n",
              "    <tr>\n",
              "      <th>9</th>\n",
              "      <td>0.0</td>\n",
              "      <td>1.0</td>\n",
              "    </tr>\n",
              "    <tr>\n",
              "      <th>10</th>\n",
              "      <td>0.0</td>\n",
              "      <td>0.0</td>\n",
              "    </tr>\n",
              "    <tr>\n",
              "      <th>11</th>\n",
              "      <td>0.0</td>\n",
              "      <td>0.0</td>\n",
              "    </tr>\n",
              "    <tr>\n",
              "      <th>12</th>\n",
              "      <td>0.0</td>\n",
              "      <td>1.0</td>\n",
              "    </tr>\n",
              "    <tr>\n",
              "      <th>13</th>\n",
              "      <td>0.0</td>\n",
              "      <td>0.0</td>\n",
              "    </tr>\n",
              "    <tr>\n",
              "      <th>14</th>\n",
              "      <td>0.0</td>\n",
              "      <td>1.0</td>\n",
              "    </tr>\n",
              "    <tr>\n",
              "      <th>15</th>\n",
              "      <td>0.0</td>\n",
              "      <td>1.0</td>\n",
              "    </tr>\n",
              "    <tr>\n",
              "      <th>16</th>\n",
              "      <td>0.0</td>\n",
              "      <td>0.0</td>\n",
              "    </tr>\n",
              "    <tr>\n",
              "      <th>17</th>\n",
              "      <td>0.0</td>\n",
              "      <td>1.0</td>\n",
              "    </tr>\n",
              "    <tr>\n",
              "      <th>18</th>\n",
              "      <td>1.0</td>\n",
              "      <td>0.0</td>\n",
              "    </tr>\n",
              "    <tr>\n",
              "      <th>19</th>\n",
              "      <td>0.0</td>\n",
              "      <td>1.0</td>\n",
              "    </tr>\n",
              "    <tr>\n",
              "      <th>20</th>\n",
              "      <td>0.0</td>\n",
              "      <td>1.0</td>\n",
              "    </tr>\n",
              "    <tr>\n",
              "      <th>21</th>\n",
              "      <td>0.0</td>\n",
              "      <td>0.0</td>\n",
              "    </tr>\n",
              "    <tr>\n",
              "      <th>22</th>\n",
              "      <td>1.0</td>\n",
              "      <td>0.0</td>\n",
              "    </tr>\n",
              "    <tr>\n",
              "      <th>23</th>\n",
              "      <td>0.0</td>\n",
              "      <td>0.0</td>\n",
              "    </tr>\n",
              "    <tr>\n",
              "      <th>24</th>\n",
              "      <td>0.0</td>\n",
              "      <td>1.0</td>\n",
              "    </tr>\n",
              "    <tr>\n",
              "      <th>25</th>\n",
              "      <td>1.0</td>\n",
              "      <td>0.0</td>\n",
              "    </tr>\n",
              "    <tr>\n",
              "      <th>26</th>\n",
              "      <td>0.0</td>\n",
              "      <td>1.0</td>\n",
              "    </tr>\n",
              "    <tr>\n",
              "      <th>27</th>\n",
              "      <td>0.0</td>\n",
              "      <td>1.0</td>\n",
              "    </tr>\n",
              "    <tr>\n",
              "      <th>28</th>\n",
              "      <td>1.0</td>\n",
              "      <td>0.0</td>\n",
              "    </tr>\n",
              "    <tr>\n",
              "      <th>29</th>\n",
              "      <td>0.0</td>\n",
              "      <td>0.0</td>\n",
              "    </tr>\n",
              "    <tr>\n",
              "      <th>30</th>\n",
              "      <td>1.0</td>\n",
              "      <td>0.0</td>\n",
              "    </tr>\n",
              "    <tr>\n",
              "      <th>31</th>\n",
              "      <td>1.0</td>\n",
              "      <td>0.0</td>\n",
              "    </tr>\n",
              "    <tr>\n",
              "      <th>32</th>\n",
              "      <td>1.0</td>\n",
              "      <td>0.0</td>\n",
              "    </tr>\n",
              "    <tr>\n",
              "      <th>33</th>\n",
              "      <td>0.0</td>\n",
              "      <td>0.0</td>\n",
              "    </tr>\n",
              "    <tr>\n",
              "      <th>34</th>\n",
              "      <td>0.0</td>\n",
              "      <td>0.0</td>\n",
              "    </tr>\n",
              "    <tr>\n",
              "      <th>35</th>\n",
              "      <td>1.0</td>\n",
              "      <td>0.0</td>\n",
              "    </tr>\n",
              "    <tr>\n",
              "      <th>36</th>\n",
              "      <td>0.0</td>\n",
              "      <td>0.0</td>\n",
              "    </tr>\n",
              "    <tr>\n",
              "      <th>37</th>\n",
              "      <td>1.0</td>\n",
              "      <td>0.0</td>\n",
              "    </tr>\n",
              "    <tr>\n",
              "      <th>38</th>\n",
              "      <td>1.0</td>\n",
              "      <td>0.0</td>\n",
              "    </tr>\n",
              "    <tr>\n",
              "      <th>39</th>\n",
              "      <td>0.0</td>\n",
              "      <td>1.0</td>\n",
              "    </tr>\n",
              "  </tbody>\n",
              "</table>\n",
              "</div>"
            ],
            "text/plain": [
              "    x0_Florida  x0_New York\n",
              "0          1.0          0.0\n",
              "1          1.0          0.0\n",
              "2          0.0          0.0\n",
              "3          0.0          1.0\n",
              "4          0.0          1.0\n",
              "5          0.0          0.0\n",
              "6          1.0          0.0\n",
              "7          1.0          0.0\n",
              "8          0.0          0.0\n",
              "9          0.0          1.0\n",
              "10         0.0          0.0\n",
              "11         0.0          0.0\n",
              "12         0.0          1.0\n",
              "13         0.0          0.0\n",
              "14         0.0          1.0\n",
              "15         0.0          1.0\n",
              "16         0.0          0.0\n",
              "17         0.0          1.0\n",
              "18         1.0          0.0\n",
              "19         0.0          1.0\n",
              "20         0.0          1.0\n",
              "21         0.0          0.0\n",
              "22         1.0          0.0\n",
              "23         0.0          0.0\n",
              "24         0.0          1.0\n",
              "25         1.0          0.0\n",
              "26         0.0          1.0\n",
              "27         0.0          1.0\n",
              "28         1.0          0.0\n",
              "29         0.0          0.0\n",
              "30         1.0          0.0\n",
              "31         1.0          0.0\n",
              "32         1.0          0.0\n",
              "33         0.0          0.0\n",
              "34         0.0          0.0\n",
              "35         1.0          0.0\n",
              "36         0.0          0.0\n",
              "37         1.0          0.0\n",
              "38         1.0          0.0\n",
              "39         0.0          1.0"
            ]
          },
          "metadata": {},
          "execution_count": 18
        }
      ]
    },
    {
      "cell_type": "code",
      "metadata": {
        "colab": {
          "base_uri": "https://localhost:8080/"
        },
        "id": "n2Z7maK0y4Uq",
        "outputId": "f914f26f-e059-4d56-864f-57b26b670c32"
      },
      "source": [
        "ohe.transform(X_test[:,3].reshape(X_test.shape[0],1))"
      ],
      "execution_count": 19,
      "outputs": [
        {
          "output_type": "execute_result",
          "data": {
            "text/plain": [
              "array([[0., 0.],\n",
              "       [0., 0.],\n",
              "       [1., 0.],\n",
              "       [0., 1.],\n",
              "       [0., 1.],\n",
              "       [0., 1.],\n",
              "       [1., 0.],\n",
              "       [0., 0.],\n",
              "       [0., 0.],\n",
              "       [0., 1.]])"
            ]
          },
          "metadata": {},
          "execution_count": 19
        }
      ]
    },
    {
      "cell_type": "code",
      "metadata": {
        "id": "AAdOD_p2zP-f"
      },
      "source": [
        "temp=['California','Florida','Florida']"
      ],
      "execution_count": 23,
      "outputs": []
    },
    {
      "cell_type": "code",
      "metadata": {
        "colab": {
          "base_uri": "https://localhost:8080/"
        },
        "id": "tyW-1HzBzgW0",
        "outputId": "0b600556-835c-4945-aa19-b7276642143a"
      },
      "source": [
        "np.array(temp).shape"
      ],
      "execution_count": 21,
      "outputs": [
        {
          "output_type": "execute_result",
          "data": {
            "text/plain": [
              "(3,)"
            ]
          },
          "metadata": {},
          "execution_count": 21
        }
      ]
    },
    {
      "cell_type": "code",
      "metadata": {
        "colab": {
          "base_uri": "https://localhost:8080/"
        },
        "id": "nU8vArg_zNog",
        "outputId": "9a153ee3-4644-47ec-de0a-20443e77ae51"
      },
      "source": [
        "ohe.transform(np.array(temp).reshape(np.array(temp).shape[0],1))"
      ],
      "execution_count": 24,
      "outputs": [
        {
          "output_type": "execute_result",
          "data": {
            "text/plain": [
              "array([[0., 0.],\n",
              "       [1., 0.],\n",
              "       [1., 0.]])"
            ]
          },
          "metadata": {},
          "execution_count": 24
        }
      ]
    },
    {
      "cell_type": "code",
      "metadata": {
        "colab": {
          "base_uri": "https://localhost:8080/"
        },
        "id": "Dm65zeA3zwM_",
        "outputId": "5ab2be7e-61e3-4c65-ecf0-0dcd3d4da4c8"
      },
      "source": [
        "X_train=np.hstack((X_train[:,:-1],train_enc))\n",
        "X_train"
      ],
      "execution_count": 29,
      "outputs": [
        {
          "output_type": "execute_result",
          "data": {
            "text/plain": [
              "array([[93863.75, 127320.38, 249839.44, 1.0, 0.0],\n",
              "       [142107.34, 91391.77, 366168.42, 1.0, 0.0],\n",
              "       [44069.95, 51283.14, 197029.42, 0.0, 0.0],\n",
              "       [120542.52, 148718.95, 311613.29, 0.0, 1.0],\n",
              "       [144372.41, 118671.85, 383199.62, 0.0, 1.0],\n",
              "       [134615.46, 147198.87, 127716.82, 0.0, 0.0],\n",
              "       [27892.92, 84710.77, 164470.71, 1.0, 0.0],\n",
              "       [1315.46, 115816.21, 297114.46, 1.0, 0.0],\n",
              "       [0.0, 135426.92, 0.0, 0.0, 0.0],\n",
              "       [114523.61, 122616.84, 261776.23, 0.0, 1.0],\n",
              "       [123334.88, 108679.17, 304981.62, 0.0, 0.0],\n",
              "       [78013.11, 121597.55, 264346.06, 0.0, 0.0],\n",
              "       [77044.01, 99281.34, 140574.81, 0.0, 1.0],\n",
              "       [46426.07, 157693.92, 210797.67, 0.0, 0.0],\n",
              "       [61136.38, 152701.92, 88218.23, 0.0, 1.0],\n",
              "       [165349.2, 136897.8, 471784.1, 0.0, 1.0],\n",
              "       [22177.74, 154806.14, 28334.72, 0.0, 0.0],\n",
              "       [72107.6, 127864.55, 353183.81, 0.0, 1.0],\n",
              "       [55493.95, 103057.49, 214634.81, 1.0, 0.0],\n",
              "       [131876.9, 99814.71, 362861.36, 0.0, 1.0],\n",
              "       [65605.48, 153032.06, 107138.38, 0.0, 1.0],\n",
              "       [100671.96, 91790.61, 249744.55, 0.0, 0.0],\n",
              "       [28663.76, 127056.21, 201126.82, 1.0, 0.0],\n",
              "       [162597.7, 151377.59, 443898.53, 0.0, 0.0],\n",
              "       [78389.47, 153773.43, 299737.29, 0.0, 1.0],\n",
              "       [153441.51, 101145.55, 407934.54, 1.0, 0.0],\n",
              "       [15505.73, 127382.3, 35534.17, 0.0, 1.0],\n",
              "       [46014.02, 85047.44, 205517.64, 0.0, 1.0],\n",
              "       [67532.53, 105751.03, 304768.73, 1.0, 0.0],\n",
              "       [28754.33, 118546.05, 172795.67, 0.0, 0.0],\n",
              "       [101913.08, 110594.11, 229160.95, 1.0, 0.0],\n",
              "       [73994.56, 122782.75, 303319.26, 1.0, 0.0],\n",
              "       [91749.16, 114175.79, 294919.57, 1.0, 0.0],\n",
              "       [0.0, 116983.8, 45173.06, 0.0, 0.0],\n",
              "       [76253.86, 113867.3, 298664.47, 0.0, 0.0],\n",
              "       [130298.13, 145530.06, 323876.68, 1.0, 0.0],\n",
              "       [23640.93, 96189.63, 148001.11, 0.0, 0.0],\n",
              "       [119943.24, 156547.42, 256512.92, 1.0, 0.0],\n",
              "       [66051.52, 182645.56, 118148.2, 1.0, 0.0],\n",
              "       [20229.59, 65947.93, 185265.1, 0.0, 1.0]], dtype=object)"
            ]
          },
          "metadata": {},
          "execution_count": 29
        }
      ]
    },
    {
      "cell_type": "code",
      "metadata": {
        "colab": {
          "base_uri": "https://localhost:8080/"
        },
        "id": "UsGYi_X80Pk_",
        "outputId": "1b699cf4-6c7e-41a0-a5aa-55de7fac8767"
      },
      "source": [
        "X_train.shape"
      ],
      "execution_count": 30,
      "outputs": [
        {
          "output_type": "execute_result",
          "data": {
            "text/plain": [
              "(40, 5)"
            ]
          },
          "metadata": {},
          "execution_count": 30
        }
      ]
    },
    {
      "cell_type": "code",
      "metadata": {
        "colab": {
          "base_uri": "https://localhost:8080/"
        },
        "id": "-DJqbJID0TEO",
        "outputId": "616b6e37-a974-4921-acac-a410664972b8"
      },
      "source": [
        "test_enc=ohe.transform(X_test[:,3].reshape(X_test.shape[0],1))\n",
        "X_test=np.hstack((X_test[:,:-1],test_enc))\n",
        "X_test.shape"
      ],
      "execution_count": 31,
      "outputs": [
        {
          "output_type": "execute_result",
          "data": {
            "text/plain": [
              "(10, 5)"
            ]
          },
          "metadata": {},
          "execution_count": 31
        }
      ]
    },
    {
      "cell_type": "code",
      "metadata": {
        "id": "uNsxRE6N0ky3"
      },
      "source": [
        "from sklearn.preprocessing import StandardScaler\n",
        "sc_X = StandardScaler()\n",
        "X_train = sc_X.fit_transform(X_train)\n",
        "X_test = sc_X.transform(X_test)\n",
        "sc_y = StandardScaler()\n",
        "y_train = sc_y.fit_transform(y_train)"
      ],
      "execution_count": 32,
      "outputs": []
    },
    {
      "cell_type": "code",
      "metadata": {
        "colab": {
          "base_uri": "https://localhost:8080/"
        },
        "id": "CiU_uk6b1BbQ",
        "outputId": "b946177d-ada3-44c0-ff62-fc0ccc08d65e"
      },
      "source": [
        "X_train"
      ],
      "execution_count": 33,
      "outputs": [
        {
          "output_type": "execute_result",
          "data": {
            "text/plain": [
              "array([[ 0.34202149,  0.22787678,  0.12425038,  1.36277029, -0.69388867],\n",
              "       [ 1.36207849, -1.0974737 ,  1.14990688,  1.36277029, -0.69388867],\n",
              "       [-0.71081297, -2.5770186 , -0.34136825, -0.73379939, -0.69388867],\n",
              "       [ 0.90611438,  1.0172367 ,  0.66890185, -0.73379939,  1.44115338],\n",
              "       [ 1.40997088, -0.09115403,  1.30006861, -0.73379939,  1.44115338],\n",
              "       [ 1.20367103,  0.96116332, -0.95248784, -0.73379939, -0.69388867],\n",
              "       [-1.05285826, -1.34392538, -0.62843389,  1.36277029, -0.69388867],\n",
              "       [-1.61480906, -0.19649414,  0.54106768,  1.36277029, -0.69388867],\n",
              "       [-1.642623  ,  0.52691442, -2.07854935, -0.73379939, -0.69388867],\n",
              "       [ 0.77885123,  0.05437051,  0.2294954 , -0.73379939,  1.44115338],\n",
              "       [ 0.96515572, -0.45976843,  0.61043134, -0.73379939, -0.69388867],\n",
              "       [ 0.00687736,  0.01677049,  0.25215324, -0.73379939, -0.69388867],\n",
              "       [-0.01361318, -0.80643974, -0.83912073, -0.73379939,  1.44115338],\n",
              "       [-0.66099544,  1.34830937, -0.2199755 , -0.73379939, -0.69388867],\n",
              "       [-0.34996231,  1.16416226, -1.30074144, -0.73379939,  1.44115338],\n",
              "       [ 1.85350175,  0.58117289,  2.08110569, -0.73379939,  1.44115338],\n",
              "       [-1.17369938,  1.24178366, -1.82872605, -0.73379939, -0.69388867],\n",
              "       [-0.11798808,  0.24795036,  1.03542337, -0.73379939,  1.44115338],\n",
              "       [-0.46926521, -0.66714345, -0.18614397,  1.36277029, -0.69388867],\n",
              "       [ 1.14576723, -0.78676456,  1.12074899, -0.73379939,  1.44115338],\n",
              "       [-0.25546817,  1.17634061, -1.1339251 , -0.73379939,  1.44115338],\n",
              "       [ 0.48597351, -1.08276111,  0.12341374, -0.73379939, -0.69388867],\n",
              "       [-1.03655971,  0.21813196, -0.30524204,  1.36277029, -0.69388867],\n",
              "       [ 1.79532434,  1.11530979,  1.83524249, -0.73379939, -0.69388867],\n",
              "       [ 0.01483507,  1.2036886 ,  0.56419281, -0.73379939,  1.44115338],\n",
              "       [ 1.6017269 , -0.73767194,  1.51815297,  1.36277029, -0.69388867],\n",
              "       [-1.3147716 ,  0.23016091, -1.7652495 , -0.73379939,  1.44115338],\n",
              "       [-0.66970778, -1.33150615, -0.26652879, -0.73379939,  1.44115338],\n",
              "       [-0.21472284, -0.56778295,  0.60855432,  1.36277029, -0.69388867],\n",
              "       [-1.03464471, -0.09579459, -0.55503387, -0.73379939, -0.69388867],\n",
              "       [ 0.51221561, -0.38912928, -0.058069  ,  1.36277029, -0.69388867],\n",
              "       [-0.07809041,  0.06049067,  0.59577454,  1.36277029, -0.69388867],\n",
              "       [ 0.29731084, -0.25700668,  0.52171564,  1.36277029, -0.69388867],\n",
              "       [-1.642623  , -0.15342356, -1.68026474, -0.73379939, -0.69388867],\n",
              "       [-0.03032003, -0.26838639,  0.5547339 , -0.73379939, -0.69388867],\n",
              "       [ 1.11238589,  0.89960352,  0.77702646,  1.36277029, -0.69388867],\n",
              "       [-1.14276186, -0.92048811, -0.77364407, -0.73379939, -0.69388867],\n",
              "       [ 0.89344327,  1.30601677,  0.18308953,  1.36277029, -0.69388867],\n",
              "       [-0.24603715,  2.26873651, -1.03685304,  1.36277029, -0.69388867],\n",
              "       [-1.21489084, -2.03605733, -0.44509263, -0.73379939,  1.44115338]])"
            ]
          },
          "metadata": {},
          "execution_count": 33
        }
      ]
    },
    {
      "cell_type": "code",
      "metadata": {
        "colab": {
          "base_uri": "https://localhost:8080/"
        },
        "id": "FNHm47wx1Fz5",
        "outputId": "0a2db14e-9cdc-428b-b87d-d9b111203f83"
      },
      "source": [
        "from sklearn.linear_model import LinearRegression\n",
        "regressor = LinearRegression()\n",
        "regressor.fit(X_train, y_train)"
      ],
      "execution_count": 34,
      "outputs": [
        {
          "output_type": "execute_result",
          "data": {
            "text/plain": [
              "LinearRegression(copy_X=True, fit_intercept=True, n_jobs=None, normalize=False)"
            ]
          },
          "metadata": {},
          "execution_count": 34
        }
      ]
    },
    {
      "cell_type": "code",
      "metadata": {
        "id": "8rkv-NzC1LCb"
      },
      "source": [
        "y_pred = regressor.predict(X_test)"
      ],
      "execution_count": 35,
      "outputs": []
    },
    {
      "cell_type": "code",
      "metadata": {
        "colab": {
          "base_uri": "https://localhost:8080/"
        },
        "id": "bYRa26xZ1Qn4",
        "outputId": "c3d38805-f39d-4e2d-b043-65fac9c25a42"
      },
      "source": [
        "sc_y.inverse_transform(y_pred)"
      ],
      "execution_count": 37,
      "outputs": [
        {
          "output_type": "execute_result",
          "data": {
            "text/plain": [
              "array([[126362.87908252],\n",
              "       [ 84608.45383643],\n",
              "       [ 99677.49425155],\n",
              "       [ 46357.46068582],\n",
              "       [128750.48288497],\n",
              "       [ 50912.41741905],\n",
              "       [109741.350327  ],\n",
              "       [100643.24281644],\n",
              "       [ 97599.275746  ],\n",
              "       [113097.42524437]])"
            ]
          },
          "metadata": {},
          "execution_count": 37
        }
      ]
    },
    {
      "cell_type": "code",
      "metadata": {
        "colab": {
          "base_uri": "https://localhost:8080/"
        },
        "id": "jaKISeNE1gZJ",
        "outputId": "91c8c8d0-67de-480f-f0a1-956212e3dae5"
      },
      "source": [
        "y_test"
      ],
      "execution_count": 38,
      "outputs": [
        {
          "output_type": "execute_result",
          "data": {
            "text/plain": [
              "array([[134307.35],\n",
              "       [ 81005.76],\n",
              "       [ 99937.59],\n",
              "       [ 64926.08],\n",
              "       [125370.37],\n",
              "       [ 35673.41],\n",
              "       [105733.54],\n",
              "       [107404.34],\n",
              "       [ 97427.84],\n",
              "       [122776.86]])"
            ]
          },
          "metadata": {},
          "execution_count": 38
        }
      ]
    },
    {
      "cell_type": "code",
      "metadata": {
        "colab": {
          "base_uri": "https://localhost:8080/"
        },
        "id": "FNX5LoWT2LuM",
        "outputId": "1322b55d-3240-4b13-a61b-1bce0edfdfc5"
      },
      "source": [
        "from sklearn.metrics import r2_score,mean_squared_error\n",
        "print(mean_squared_error(y_test,sc_y.inverse_transform(y_pred)))\n",
        "r2_score(y_test,sc_y.inverse_transform(y_pred))"
      ],
      "execution_count": 43,
      "outputs": [
        {
          "output_type": "stream",
          "name": "stdout",
          "text": [
            "82010363.04501359\n"
          ]
        },
        {
          "output_type": "execute_result",
          "data": {
            "text/plain": [
              "0.8987266414319838"
            ]
          },
          "metadata": {},
          "execution_count": 43
        }
      ]
    }
  ]
}